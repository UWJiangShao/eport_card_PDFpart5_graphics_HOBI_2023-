{
 "cells": [
  {
   "cell_type": "code",
   "execution_count": 1,
   "id": "8def76c1-a8b1-4be3-ba51-20ab2295aaa2",
   "metadata": {},
   "outputs": [],
   "source": [
    "import PyPDF2"
   ]
  },
  {
   "cell_type": "code",
   "execution_count": 4,
   "id": "545aada6-bf9c-42ef-b068-b1a6430a54bc",
   "metadata": {},
   "outputs": [],
   "source": [
    "# Open the PDF file\n",
    "pdf_file = open(\"../output/STAR Adult/MCO Report Cards 2024 - STAR Adult - Bexar.pdf\", \"rb\")\n",
    "pdf_reader = PyPDF2.PdfReader (pdf_file)"
   ]
  },
  {
   "cell_type": "code",
   "execution_count": 7,
   "id": "d30ccb2e-16d8-45d0-9d20-f5fe4a34a3c2",
   "metadata": {},
   "outputs": [],
   "source": [
    "# Get the tags from the PDF file\n",
    "pdf_tags = pdf_reader.metadata"
   ]
  },
  {
   "cell_type": "code",
   "execution_count": 8,
   "id": "76133a94-17b3-46c3-8b69-a43780492bde",
   "metadata": {},
   "outputs": [
    {
     "data": {
      "text/plain": [
       "{'/Author': 'Texas Health and Human Services',\n",
       " '/CreationDate': \"D:20231206114634-05'00'\",\n",
       " '/Creator': 'Adobe InDesign 18.0 (Windows)',\n",
       " '/ModDate': \"D:20231206114638-05'00'\",\n",
       " '/Producer': 'Adobe PDF Library 17.0',\n",
       " '/Subject': 'Report card for STAR health plans for adults – San Antonio area (2024)',\n",
       " '/Title': 'Report card for STAR health plans for adults – San Antonio area',\n",
       " '/Trapped': '/False'}"
      ]
     },
     "execution_count": 8,
     "metadata": {},
     "output_type": "execute_result"
    }
   ],
   "source": [
    "pdf_tags"
   ]
  },
  {
   "cell_type": "code",
   "execution_count": null,
   "id": "c348bfa6-f7e2-4f19-8d8b-22b68c805f44",
   "metadata": {},
   "outputs": [],
   "source": [
    "# Edit the tags\n",
    "pdf_tags[\"Title\"] = \"New Title\"\n",
    "\n",
    "# Save the changes\n",
    "pdf_writer = PyPDF2.PdfFileWriter()\n",
    "pdf_writer.addPage(pdf_reader.getPage(0))\n",
    "pdf_writer.getDocumentInfo().update(pdf_tags)\n",
    "pdf_writer.write(\"my_new_pdf_file.pdf\")\n",
    "\n",
    "# Close the PDF files\n",
    "pdf_file.close()"
   ]
  },
  {
   "cell_type": "code",
   "execution_count": null,
   "id": "7dc141d7-e22d-4360-8677-f86acd40a5de",
   "metadata": {},
   "outputs": [],
   "source": []
  },
  {
   "cell_type": "code",
   "execution_count": null,
   "id": "4f343350-fed9-4e5d-9a94-ef9d554bea7c",
   "metadata": {},
   "outputs": [],
   "source": []
  },
  {
   "cell_type": "code",
   "execution_count": null,
   "id": "ccb77d53-1eed-4aea-98e0-a52d2968f4a4",
   "metadata": {},
   "outputs": [],
   "source": []
  },
  {
   "cell_type": "code",
   "execution_count": 21,
   "id": "181df273-fb6f-4703-b150-188cfe8de2f4",
   "metadata": {},
   "outputs": [
    {
     "name": "stdout",
     "output_type": "stream",
     "text": [
      "Document('../output/STAR Adult/MCO Report Cards 2024 - STAR Adult - Bexar.pdf')\n"
     ]
    },
    {
     "data": {
      "text/plain": [
       "\"An error occurred: 'method' object is not iterable\""
      ]
     },
     "execution_count": 21,
     "metadata": {},
     "output_type": "execute_result"
    }
   ],
   "source": [
    "import fitz  # PyMuPDF\n",
    "\n",
    "def extract_tags_from_pdf(file_path):\n",
    "    \"\"\"Extracts tags from a PDF using PyMuPDF (fitz) library.\"\"\"\n",
    "    tags = []\n",
    "    try:\n",
    "        # Open the PDF file\n",
    "        doc = fitz.open(file_path)\n",
    "\n",
    "        # doc = fitz.Document(pdf_file)\n",
    "        print(doc)\n",
    "        \n",
    "        # Iterate through each page\n",
    "        for page in doc.pages:\n",
    "            # Get the structure elements (tags) of the page\n",
    "            structure = page.get_objects()\n",
    "\n",
    "            # Iterate through the structure elements\n",
    "            for elem in structure:\n",
    "                # Append the tag and its content to the list\n",
    "                tags.append((elem[\"type\"], elem.get_text(\"text\")))\n",
    "\n",
    "        # Close the document\n",
    "        doc.close()\n",
    "        return tags\n",
    "    except Exception as e:\n",
    "        return f\"An error occurred: {e}\"\n",
    "\n",
    "# Example usage\n",
    "file_path = \"../output/STAR Adult/MCO Report Cards 2024 - STAR Adult - Bexar.pdf\"  # Replace with your PDF file path\n",
    "extract_tags_from_pdf(file_path)\n"
   ]
  },
  {
   "cell_type": "code",
   "execution_count": 28,
   "id": "6d9e6ca8-1db2-44e4-ab79-9abdd9c9ec7f",
   "metadata": {},
   "outputs": [
    {
     "ename": "AttributeError",
     "evalue": "'PageObject' object has no attribute 'getObjects'",
     "output_type": "error",
     "traceback": [
      "\u001b[1;31m---------------------------------------------------------------------------\u001b[0m",
      "\u001b[1;31mAttributeError\u001b[0m                            Traceback (most recent call last)",
      "\u001b[1;32m~\\AppData\\Local\\Temp/ipykernel_20612/3577449951.py\u001b[0m in \u001b[0;36m<module>\u001b[1;34m\u001b[0m\n\u001b[0;32m     22\u001b[0m     \u001b[1;32mreturn\u001b[0m \u001b[0mtags\u001b[0m\u001b[1;33m\u001b[0m\u001b[1;33m\u001b[0m\u001b[0m\n\u001b[0;32m     23\u001b[0m \u001b[1;33m\u001b[0m\u001b[0m\n\u001b[1;32m---> 24\u001b[1;33m \u001b[0mextract_tags\u001b[0m\u001b[1;33m(\u001b[0m\u001b[1;34m\"../output/STAR Adult/MCO Report Cards 2024 - STAR Adult - Bexar.pdf\"\u001b[0m\u001b[1;33m)\u001b[0m\u001b[1;33m\u001b[0m\u001b[1;33m\u001b[0m\u001b[0m\n\u001b[0m",
      "\u001b[1;32m~\\AppData\\Local\\Temp/ipykernel_20612/3577449951.py\u001b[0m in \u001b[0;36mextract_tags\u001b[1;34m(pdf_file)\u001b[0m\n\u001b[0;32m     16\u001b[0m     \u001b[1;32mfor\u001b[0m \u001b[0mpage_num\u001b[0m \u001b[1;32min\u001b[0m \u001b[0mrange\u001b[0m\u001b[1;33m(\u001b[0m\u001b[0mlen\u001b[0m\u001b[1;33m(\u001b[0m\u001b[0mpdf_reader\u001b[0m\u001b[1;33m.\u001b[0m\u001b[0mpages\u001b[0m\u001b[1;33m)\u001b[0m\u001b[1;33m)\u001b[0m\u001b[1;33m:\u001b[0m\u001b[1;33m\u001b[0m\u001b[1;33m\u001b[0m\u001b[0m\n\u001b[0;32m     17\u001b[0m         \u001b[0mpage\u001b[0m \u001b[1;33m=\u001b[0m \u001b[0mpdf_reader\u001b[0m\u001b[1;33m.\u001b[0m\u001b[0mpages\u001b[0m\u001b[1;33m[\u001b[0m\u001b[0mpage_num\u001b[0m\u001b[1;33m]\u001b[0m\u001b[1;33m\u001b[0m\u001b[1;33m\u001b[0m\u001b[0m\n\u001b[1;32m---> 18\u001b[1;33m         \u001b[1;32mfor\u001b[0m \u001b[0mobj\u001b[0m \u001b[1;32min\u001b[0m \u001b[0mpage\u001b[0m\u001b[1;33m.\u001b[0m\u001b[0mgetObjects\u001b[0m\u001b[1;33m(\u001b[0m\u001b[1;33m)\u001b[0m\u001b[1;33m:\u001b[0m\u001b[1;33m\u001b[0m\u001b[1;33m\u001b[0m\u001b[0m\n\u001b[0m\u001b[0;32m     19\u001b[0m             \u001b[1;32mif\u001b[0m \u001b[0mobj\u001b[0m\u001b[1;33m.\u001b[0m\u001b[0mType\u001b[0m \u001b[1;33m==\u001b[0m \u001b[1;34m\"PageObject\"\u001b[0m\u001b[1;33m:\u001b[0m\u001b[1;33m\u001b[0m\u001b[1;33m\u001b[0m\u001b[0m\n\u001b[0;32m     20\u001b[0m                 \u001b[1;32mfor\u001b[0m \u001b[0mtag\u001b[0m \u001b[1;32min\u001b[0m \u001b[0mobj\u001b[0m\u001b[1;33m.\u001b[0m\u001b[0mget\u001b[0m\u001b[1;33m(\u001b[0m\u001b[1;34m\"Annots\"\u001b[0m\u001b[1;33m,\u001b[0m \u001b[1;33m[\u001b[0m\u001b[1;33m]\u001b[0m\u001b[1;33m)\u001b[0m\u001b[1;33m:\u001b[0m\u001b[1;33m\u001b[0m\u001b[1;33m\u001b[0m\u001b[0m\n",
      "\u001b[1;31mAttributeError\u001b[0m: 'PageObject' object has no attribute 'getObjects'"
     ]
    }
   ],
   "source": [
    "import PyPDF2\n",
    "import re\n",
    "\n",
    "def extract_tags(pdf_file):\n",
    "    \"\"\"Extracts all PDF tags related to content from a PDF file.\n",
    "\n",
    "    Args:\n",
    "    pdf_file: The path to the PDF file.\n",
    "\n",
    "    Returns:\n",
    "    A list of all PDF tags related to content.\n",
    "    \"\"\"\n",
    "\n",
    "    pdf_reader = PyPDF2.PdfReader (pdf_file)\n",
    "    tags = []\n",
    "    for page_num in range(len(pdf_reader.pages)):\n",
    "        page = pdf_reader.pages[page_num]\n",
    "        for obj in page.getObjects():\n",
    "            if obj.Type == \"PageObject\":\n",
    "                for tag in obj.get(\"Annots\", []):\n",
    "                    tags.append(tag.get(\"Type\"))\n",
    "    return tags\n",
    "\n",
    "extract_tags(\"../output/STAR Adult/MCO Report Cards 2024 - STAR Adult - Bexar.pdf\")"
   ]
  },
  {
   "cell_type": "code",
   "execution_count": null,
   "id": "440bd31f-83c6-46fa-9cfc-0e446011f92a",
   "metadata": {},
   "outputs": [],
   "source": []
  }
 ],
 "metadata": {
  "kernelspec": {
   "display_name": "Python 3 (ipykernel)",
   "language": "python",
   "name": "python3"
  },
  "language_info": {
   "codemirror_mode": {
    "name": "ipython",
    "version": 3
   },
   "file_extension": ".py",
   "mimetype": "text/x-python",
   "name": "python",
   "nbconvert_exporter": "python",
   "pygments_lexer": "ipython3",
   "version": "3.9.7"
  }
 },
 "nbformat": 4,
 "nbformat_minor": 5
}
